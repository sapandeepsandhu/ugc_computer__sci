{
  "nbformat": 4,
  "nbformat_minor": 0,
  "metadata": {
    "colab": {
      "provenance": []
    },
    "kernelspec": {
      "name": "python3",
      "display_name": "Python 3"
    },
    "language_info": {
      "name": "python"
    }
  },
  "cells": [
    {
      "cell_type": "code",
      "execution_count": null,
      "metadata": {
        "id": "Jw9W5dG-AAX6"
      },
      "outputs": [],
      "source": [
        "from IPython.display import display\n",
        "from PIL import Image as PILImage\n",
        "import io\n",
        "\n",
        "# Function to resize the image to an optimal size\n",
        "def resize_image(image, max_width, max_height):\n",
        "    # Get the current size of the image\n",
        "    width, height = image.size\n",
        "\n",
        "    # Calculate the optimal size maintaining the aspect ratio\n",
        "    if width > max_width or height > max_height:\n",
        "        ratio = min(max_width / width, max_height / height)\n",
        "        new_width = int(width * ratio)\n",
        "        new_height = int(height * ratio)\n",
        "        resized_image = image.resize((new_width, new_height), PILImage.ANTIALIAS)\n",
        "        return resized_image\n",
        "    else:\n",
        "        # If the image is already smaller than the max dimensions, no need to resize\n",
        "        return image\n",
        "\n",
        "# Define the maximum width and height\n",
        "max_width = 800\n",
        "max_height = 600\n",
        "\n",
        "# Specify the filename of the uploaded image\n",
        "filename = 'your_uploaded_image.png'  # Replace with your actual file name\n",
        "\n",
        "# Open the image using PIL\n",
        "image = PILImage.open(filename)\n",
        "\n",
        "# Resize the image\n",
        "resized_image = resize_image(image, max_width, max_height)\n",
        "\n",
        "# Display the resized image\n",
        "display(resized_image)\n"
      ]
    },
    {
      "cell_type": "code",
      "source": [
        "import math\n",
        "\n",
        "def calculate_area(radius):\n",
        "    return math.pi * radius ** 2\n",
        "\n",
        "radius = 5\n",
        "area = calculate_area(radius)\n",
        "print(\"The area of a circle with radius\", radius, \"is\", area)\n"
      ],
      "metadata": {
        "colab": {
          "base_uri": "https://localhost:8080/"
        },
        "id": "Bcu1_cKJA9lm",
        "outputId": "732a339d-8e8f-4474-cff9-4f01c6eefcba"
      },
      "execution_count": 1,
      "outputs": [
        {
          "output_type": "stream",
          "name": "stdout",
          "text": [
            "The area of a circle with radius 5 is 78.53981633974483\n"
          ]
        }
      ]
    },
    {
      "cell_type": "code",
      "source": [
        "!apt update && apt install build-essential -y\n"
      ],
      "metadata": {
        "colab": {
          "base_uri": "https://localhost:8080/"
        },
        "id": "06t306L7BJlS",
        "outputId": "b2cf64aa-c33e-4143-fcf4-525810a744df"
      },
      "execution_count": 2,
      "outputs": [
        {
          "output_type": "stream",
          "name": "stdout",
          "text": [
            "\u001b[33m\r0% [Working]\u001b[0m\r            \rGet:1 https://cloud.r-project.org/bin/linux/ubuntu jammy-cran40/ InRelease [3,626 B]\n",
            "\u001b[33m\r0% [Waiting for headers] [Waiting for headers] [1 InRelease 0 B/3,626 B 0%] [Connecting to ppa.launc\u001b[0m\u001b[33m\r0% [Waiting for headers] [Waiting for headers] [Connecting to ppa.launchpadcontent.net] [Waiting for\u001b[0m\r                                                                                                    \rHit:2 https://developer.download.nvidia.com/compute/cuda/repos/ubuntu2204/x86_64  InRelease\n",
            "\u001b[33m\r                                                                                                    \r0% [Waiting for headers] [Waiting for headers] [Connecting to ppa.launchpadcontent.net]\u001b[0m\r                                                                                       \rHit:3 http://archive.ubuntu.com/ubuntu jammy InRelease\n",
            "\u001b[33m\r0% [Waiting for headers] [Waiting for headers] [Connecting to ppa.launchpadcontent.net (185.125.190.\u001b[0m\r                                                                                                    \rGet:4 http://security.ubuntu.com/ubuntu jammy-security InRelease [110 kB]\n",
            "Get:5 http://archive.ubuntu.com/ubuntu jammy-updates InRelease [119 kB]\n",
            "Hit:6 http://archive.ubuntu.com/ubuntu jammy-backports InRelease\n",
            "Get:7 http://security.ubuntu.com/ubuntu jammy-security/main amd64 Packages [1,850 kB]\n",
            "Hit:8 https://ppa.launchpadcontent.net/c2d4u.team/c2d4u4.0+/ubuntu jammy InRelease\n",
            "Get:9 http://archive.ubuntu.com/ubuntu jammy-updates/restricted amd64 Packages [2,462 kB]\n",
            "Hit:10 https://ppa.launchpadcontent.net/deadsnakes/ppa/ubuntu jammy InRelease\n",
            "Hit:11 https://ppa.launchpadcontent.net/graphics-drivers/ppa/ubuntu jammy InRelease\n",
            "Get:12 http://security.ubuntu.com/ubuntu jammy-security/restricted amd64 Packages [2,389 kB]\n",
            "Hit:13 https://ppa.launchpadcontent.net/ubuntugis/ppa/ubuntu jammy InRelease\n",
            "Get:14 http://archive.ubuntu.com/ubuntu jammy-updates/main amd64 Packages [2,122 kB]\n",
            "Fetched 9,057 kB in 2s (5,026 kB/s)\n",
            "Reading package lists... Done\n",
            "Building dependency tree... Done\n",
            "Reading state information... Done\n",
            "45 packages can be upgraded. Run 'apt list --upgradable' to see them.\n",
            "Reading package lists... Done\n",
            "Building dependency tree... Done\n",
            "Reading state information... Done\n",
            "build-essential is already the newest version (12.9ubuntu3).\n",
            "0 upgraded, 0 newly installed, 0 to remove and 45 not upgraded.\n"
          ]
        }
      ]
    },
    {
      "cell_type": "code",
      "source": [
        "%%writefile hello.c\n",
        "#include <stdio.h>\n",
        "\n",
        "int main() {\n",
        "    printf(\"Hello, World!\\n\");\n",
        "    return 0;\n",
        "}\n"
      ],
      "metadata": {
        "colab": {
          "base_uri": "https://localhost:8080/"
        },
        "id": "DvnWCX6_BNxf",
        "outputId": "9ec82792-d8cc-4b9a-94ef-9f397b1fb756"
      },
      "execution_count": 3,
      "outputs": [
        {
          "output_type": "stream",
          "name": "stdout",
          "text": [
            "Writing hello.c\n"
          ]
        }
      ]
    },
    {
      "cell_type": "code",
      "source": [
        "!gcc hello.c -o hello\n"
      ],
      "metadata": {
        "id": "bxQmyxflBQ7U"
      },
      "execution_count": 4,
      "outputs": []
    },
    {
      "cell_type": "code",
      "source": [
        "!./hello\n"
      ],
      "metadata": {
        "colab": {
          "base_uri": "https://localhost:8080/"
        },
        "id": "g29j61NBBTcR",
        "outputId": "57a1e4de-6a52-46fc-c4f3-b40ca30270a9"
      },
      "execution_count": 5,
      "outputs": [
        {
          "output_type": "stream",
          "name": "stdout",
          "text": [
            "Hello, World!\n"
          ]
        }
      ]
    },
    {
      "cell_type": "code",
      "source": [
        "%%writefile example.c\n",
        "#include <stdio.h>\n",
        "\n",
        "int main() {\n",
        "    printf(\"C programming in Google Colab!\\n\");\n",
        "    return 0;\n",
        "}\n"
      ],
      "metadata": {
        "colab": {
          "base_uri": "https://localhost:8080/"
        },
        "id": "KmF1B6KqBW9k",
        "outputId": "d487d2f5-235d-445d-fed5-b1d9e29ec308"
      },
      "execution_count": 10,
      "outputs": [
        {
          "output_type": "stream",
          "name": "stdout",
          "text": [
            "Overwriting example.c\n"
          ]
        }
      ]
    },
    {
      "cell_type": "code",
      "source": [
        "!gcc example.c -o example\n"
      ],
      "metadata": {
        "id": "9bZyZUfLBb7R"
      },
      "execution_count": 13,
      "outputs": []
    },
    {
      "cell_type": "code",
      "source": [
        "!./example"
      ],
      "metadata": {
        "colab": {
          "base_uri": "https://localhost:8080/"
        },
        "id": "VLThaht3B2X_",
        "outputId": "3a279490-b295-48aa-9163-5b1be2d184a9"
      },
      "execution_count": 14,
      "outputs": [
        {
          "output_type": "stream",
          "name": "stdout",
          "text": [
            "C programming in Google Colab!\n"
          ]
        }
      ]
    },
    {
      "cell_type": "markdown",
      "source": [
        "\n",
        "### Limitations and Considerations\n",
        "\n",
        "- **Environment**: The execution environment is transient. If you close your Colab session, you will lose all data that is not saved to Google Drive or downloaded.\n",
        "- **File Persistence**: Files written or compiled exist only temporarily. If you need them longer, consider downloading them or saving them to Google Drive.\n",
        "- **Interactive Execution**: While you can run C code in Colab, it's not interactive in the traditional sense like running a C program locally or in an IDE specifically designed for C/C++.\n",
        "\n",
        "Using this method, you can effectively run simple to moderately complex C programs within Google Colab, leveraging it for demonstrations, teaching, and light development work alongside Python code. For more intensive C/C++ development, using a local development environment or dedicated online C/C++ compilers and IDEs might be more effective.\n"
      ],
      "metadata": {
        "id": "n5NE8SGfB7Y5"
      }
    },
    {
      "cell_type": "code",
      "source": [
        "fruits = [\"apple\", \"banana\", \"cherry\"]\n",
        "for a in fruits:\n",
        "    print(a)\n"
      ],
      "metadata": {
        "colab": {
          "base_uri": "https://localhost:8080/"
        },
        "id": "H8bXWQfFCauF",
        "outputId": "0eb3c7c1-bfc5-4864-926e-216d3884058e"
      },
      "execution_count": 20,
      "outputs": [
        {
          "output_type": "stream",
          "name": "stdout",
          "text": [
            "apple\n",
            "banana\n",
            "cherry\n"
          ]
        }
      ]
    },
    {
      "cell_type": "code",
      "source": [
        "%%writefile a.c\n",
        "#include <stdio.h>\n",
        "\n",
        "int main()\n",
        "{\n",
        "    // Array of pointers to char, each pointing to a string literal\n",
        "    const char* fruits[] = {\"apple\", \"banana\", \"cherry\"};\n",
        "    int numberOfFruits = sizeof(fruits) / sizeof(fruits[0]);  // Calculate the number of elements in the array\n",
        "\n",
        "    for (int i = 0; i < numberOfFruits; i++)\n",
        "    {\n",
        "        printf(\"%s\\n\", fruits[i]);  // Print each fruit\n",
        "    }\n",
        "\n",
        "    return 0;\n",
        "}\n"
      ],
      "metadata": {
        "colab": {
          "base_uri": "https://localhost:8080/"
        },
        "id": "Kv86eYeSKbgI",
        "outputId": "83bf744b-7093-42c9-9071-619fb49081eb"
      },
      "execution_count": 62,
      "outputs": [
        {
          "output_type": "stream",
          "name": "stdout",
          "text": [
            "Writing a.c\n"
          ]
        }
      ]
    },
    {
      "cell_type": "code",
      "source": [
        "!./a"
      ],
      "metadata": {
        "colab": {
          "base_uri": "https://localhost:8080/"
        },
        "id": "atWJER2xKmKv",
        "outputId": "98db008e-f8a3-4b01-eea8-5acc4b70e10a"
      },
      "execution_count": 64,
      "outputs": [
        {
          "output_type": "stream",
          "name": "stdout",
          "text": [
            "apple\n",
            "banana\n",
            "cherry\n"
          ]
        }
      ]
    },
    {
      "cell_type": "code",
      "source": [
        "counter = 0\n",
        "while counter < 20:\n",
        "    print(\"Counter is\", counter)\n",
        "    counter = counter + 2.5\n"
      ],
      "metadata": {
        "colab": {
          "base_uri": "https://localhost:8080/"
        },
        "id": "m-R4qHppCr2s",
        "outputId": "78afa886-ae27-4497-9882-be0fb5750e2e"
      },
      "execution_count": 31,
      "outputs": [
        {
          "output_type": "stream",
          "name": "stdout",
          "text": [
            "Counter is 0\n",
            "Counter is 2.5\n",
            "Counter is 5.0\n",
            "Counter is 7.5\n",
            "Counter is 10.0\n",
            "Counter is 12.5\n",
            "Counter is 15.0\n",
            "Counter is 17.5\n"
          ]
        }
      ]
    },
    {
      "cell_type": "code",
      "source": [
        "for number in [1, 2, 3, 4, 5]:\n",
        "    if number == 3:\n",
        "        print(\"Number found!\")\n",
        "        break\n",
        "    print(\"Checking\", number)\n",
        "\n"
      ],
      "metadata": {
        "colab": {
          "base_uri": "https://localhost:8080/"
        },
        "id": "g3WT2V8mDKK2",
        "outputId": "699c3da8-46d2-408c-a5c3-41e2858d1645"
      },
      "execution_count": 42,
      "outputs": [
        {
          "output_type": "stream",
          "name": "stdout",
          "text": [
            "Checking 1\n",
            "Checking 2\n",
            "Number found!\n"
          ]
        }
      ]
    },
    {
      "cell_type": "code",
      "source": [
        "for number in [1, 2, 3, 4, 5]:\n",
        "    if number == 6:\n",
        "        continue  # skip number 3\n",
        "    print(\"Number\", number)\n"
      ],
      "metadata": {
        "colab": {
          "base_uri": "https://localhost:8080/"
        },
        "id": "Wj2bwlSKEcCf",
        "outputId": "cb5bab58-79cf-4299-b7bc-7bfabe51649e"
      },
      "execution_count": 44,
      "outputs": [
        {
          "output_type": "stream",
          "name": "stdout",
          "text": [
            "Number 1\n",
            "Number 2\n",
            "Number 3\n",
            "Number 4\n",
            "Number 5\n"
          ]
        }
      ]
    },
    {
      "cell_type": "code",
      "source": [
        "%%writefile loop_learn.c\n",
        "#include <stdio.h>\n",
        "\n",
        "int main()\n",
        "{\n",
        "    for (int i = 0; i < 5; i++)\n",
        "    {\n",
        "        printf(\"%d\\n\", i);\n",
        "    }\n",
        "    return 0;\n",
        "}\n"
      ],
      "metadata": {
        "colab": {
          "base_uri": "https://localhost:8080/"
        },
        "id": "hRlB66MOEhcR",
        "outputId": "ae861e7b-8c9a-4118-cd36-a0a0b1d41af3"
      },
      "execution_count": 46,
      "outputs": [
        {
          "output_type": "stream",
          "name": "stdout",
          "text": [
            "Writing loop_learn.c\n"
          ]
        }
      ]
    },
    {
      "cell_type": "code",
      "source": [
        "!gcc loop_learn.c -o loop_learn"
      ],
      "metadata": {
        "id": "ARESdIm6EsLy"
      },
      "execution_count": 47,
      "outputs": []
    },
    {
      "cell_type": "code",
      "source": [
        "!./loop_learn"
      ],
      "metadata": {
        "colab": {
          "base_uri": "https://localhost:8080/"
        },
        "id": "c4NVWXfxExQl",
        "outputId": "04a73d2c-6e83-4e3d-faad-648b86d8957e"
      },
      "execution_count": 48,
      "outputs": [
        {
          "output_type": "stream",
          "name": "stdout",
          "text": [
            "0\n",
            "1\n",
            "2\n",
            "3\n",
            "4\n"
          ]
        }
      ]
    },
    {
      "cell_type": "code",
      "source": [
        "for i in range(5):\n",
        "    print(i)\n"
      ],
      "metadata": {
        "colab": {
          "base_uri": "https://localhost:8080/"
        },
        "id": "IYx8QPtiE_ev",
        "outputId": "7ba3b29c-edeb-4023-c1bb-c2d9753bf77a"
      },
      "execution_count": 49,
      "outputs": [
        {
          "output_type": "stream",
          "name": "stdout",
          "text": [
            "0\n",
            "1\n",
            "2\n",
            "3\n",
            "4\n"
          ]
        }
      ]
    },
    {
      "cell_type": "code",
      "source": [
        "%%writefile while_loop_learn.c\n",
        "#include <stdio.h>\n",
        "\n",
        "int main()\n",
        "{\n",
        "    int i = 0;\n",
        "    while (i < 5)\n",
        "    {\n",
        "        printf(\"%d\\n\", i);\n",
        "        i++;\n",
        "    }\n",
        "    return 0;\n",
        "}\n"
      ],
      "metadata": {
        "colab": {
          "base_uri": "https://localhost:8080/"
        },
        "id": "xgy2hg8TFQyf",
        "outputId": "5b2cb830-cfbf-4a55-ee35-d26f9a2d9fd9"
      },
      "execution_count": 50,
      "outputs": [
        {
          "output_type": "stream",
          "name": "stdout",
          "text": [
            "Writing while_loop_learn.c\n"
          ]
        }
      ]
    },
    {
      "cell_type": "code",
      "source": [
        "!gcc while_loop_learn.c -o while_loop_learn"
      ],
      "metadata": {
        "id": "NRm0D5dLFZ7G"
      },
      "execution_count": 51,
      "outputs": []
    },
    {
      "cell_type": "code",
      "source": [
        "!./while_loop_learn"
      ],
      "metadata": {
        "colab": {
          "base_uri": "https://localhost:8080/"
        },
        "id": "M6VgmPvXFffK",
        "outputId": "84656f79-db98-41cc-a395-d4d0d41eb293"
      },
      "execution_count": 53,
      "outputs": [
        {
          "output_type": "stream",
          "name": "stdout",
          "text": [
            "0\n",
            "1\n",
            "2\n",
            "3\n",
            "4\n"
          ]
        }
      ]
    },
    {
      "cell_type": "code",
      "source": [
        "i = 0\n",
        "while i < 5:\n",
        "    print(i)\n",
        "    i += 1\n"
      ],
      "metadata": {
        "colab": {
          "base_uri": "https://localhost:8080/"
        },
        "id": "Hss8na0TFwdm",
        "outputId": "43399e6c-88ce-4c98-9311-cc510222bf7a"
      },
      "execution_count": 54,
      "outputs": [
        {
          "output_type": "stream",
          "name": "stdout",
          "text": [
            "0\n",
            "1\n",
            "2\n",
            "3\n",
            "4\n"
          ]
        }
      ]
    },
    {
      "cell_type": "markdown",
      "source": [
        "\n",
        "### 3. **Loop Control Statements**\n",
        "\n",
        "#### **C**\n",
        "- **`break`**: Exits the loop.\n",
        "- **`continue`**: Skips the current loop iteration.\n",
        "\n",
        "```c\n",
        "#include <stdio.h>\n",
        "\n",
        "int main() {\n",
        "    for (int i = 0; i < 10; i++) {\n",
        "        if (i == 5) {\n",
        "            break; // Exit loop when i is 5\n",
        "        }\n",
        "        if (i == 3) {\n",
        "            continue; // Skip loop iteration when i is 3\n",
        "        }\n",
        "        printf(\"%d\\n\", i);\n",
        "    }\n",
        "    return 0;\n",
        "}\n",
        "```\n",
        "\n",
        "#### **Python**\n",
        "Uses the same `break` and `continue` statements with similar behaviors.\n",
        "\n",
        "```python\n",
        "for i in range(10):\n",
        "    if i == 5:\n",
        "        break  # Exit loop when i is 5\n",
        "    if i == 3:\n",
        "        continue  # Skip loop iteration when i is 3\n",
        "    print(i)\n",
        "```\n",
        "\n",
        "### **Key Differences and Limitations**\n",
        "\n",
        "- **Syntax Flexibility**: Python's `for` loop is more flexible for directly iterating over items, which can be more intuitive.\n",
        "- **Initialization and Update**: C requires explicit type definitions and manual update of loop variables.\n",
        "- **Use of `range()`**: In Python, `range()` is specifically used for generating sequences of numbers, a feature directly built into the language.\n",
        "\n",
        "Feel free to use this guide in your Google Colab notebook to reference loops in C and Python, enhancing your programming skills with practical and comparative insights."
      ],
      "metadata": {
        "id": "y52VFOBhF50w"
      }
    },
    {
      "cell_type": "code",
      "source": [
        "%%writefile control_st.c\n",
        "# include <stdio.h>\n",
        "\n",
        "int main()\n",
        "{\n",
        "    for (int i = 0; i < 10; i++)\n",
        "    {\n",
        "        if (i == 5)\n",
        "        {\n",
        "            break; // Exit loop when i is 5\n",
        "        }\n",
        "        if (i == 3)\n",
        "        {\n",
        "            continue; // Skip loop iteration when i is 3\n",
        "        }\n",
        "        printf(\"%d\\n\", i);\n",
        "    }\n",
        "    return 0;\n",
        "}"
      ],
      "metadata": {
        "colab": {
          "base_uri": "https://localhost:8080/"
        },
        "id": "T8HeQXy7GsB2",
        "outputId": "88477991-fe01-4459-a9dc-386662ba53e8"
      },
      "execution_count": 55,
      "outputs": [
        {
          "output_type": "stream",
          "name": "stdout",
          "text": [
            "Writing control_st.c\n"
          ]
        }
      ]
    },
    {
      "cell_type": "code",
      "source": [
        "!gcc control_st.c -o control_st"
      ],
      "metadata": {
        "id": "Lt06I73mG1xT"
      },
      "execution_count": 56,
      "outputs": []
    },
    {
      "cell_type": "code",
      "source": [
        "!./control_st"
      ],
      "metadata": {
        "colab": {
          "base_uri": "https://localhost:8080/"
        },
        "id": "l75jRJkBG6Rz",
        "outputId": "fe555d56-5e39-4da0-f0e1-3a78b9336d2d"
      },
      "execution_count": 57,
      "outputs": [
        {
          "output_type": "stream",
          "name": "stdout",
          "text": [
            "0\n",
            "1\n",
            "2\n",
            "4\n"
          ]
        }
      ]
    },
    {
      "cell_type": "code",
      "source": [
        "for i in range(10):\n",
        "    if i == 5:\n",
        "        break  # Exit loop when i is 5\n",
        "    if i == 3:\n",
        "        continue  # Skip loop iteration when i is 3\n",
        "    print(i)"
      ],
      "metadata": {
        "colab": {
          "base_uri": "https://localhost:8080/"
        },
        "id": "JEk8clSnHA4v",
        "outputId": "7af0307b-9c21-4c9c-ec91-989638bf6d16"
      },
      "execution_count": 58,
      "outputs": [
        {
          "output_type": "stream",
          "name": "stdout",
          "text": [
            "0\n",
            "1\n",
            "2\n",
            "4\n"
          ]
        }
      ]
    },
    {
      "cell_type": "markdown",
      "source": [
        "| Feature           | **`while` Loop**                                           | **`for` Loop**                                             |\n",
        "|-------------------|------------------------------------------------------------|------------------------------------------------------------|\n",
        "| **Basic Concept** | Executes a block of code as long as a specified condition is true. | Iterates over a sequence or range of numbers.              |\n",
        "| **Usage**         | Useful when the number of iterations is not known before the loop starts. | Ideal when the number of iterations is known beforehand.   |\n",
        "| **Structure**     | Consists of a condition and a block of code. The initialization and increment/decrement often occur inside the block. | Typically includes initialization, condition, and increment/decrement in a single line. |\n",
        "| **Control**       | Loop continues based solely on a condition. Initial conditions must be set before the loop and updated within the loop. | Loop control is compact and usually manages all aspects of iteration (initialization, condition check, and update) in one line. |\n",
        "| **Flexibility**   | More flexible in controlling the loop based on complex conditions. Can be more prone to infinite loops if not managed correctly. | Less flexible in terms of conditions but clearer and less prone to error for counted loops. |\n",
        "| **Common Use**    | Checking for a condition to change (like user input or a process completion), where the exact number of iterations is unknown. | Performing a known, finite number of iterations over elements of a collection or a simple range of numbers. |\n",
        "\n"
      ],
      "metadata": {
        "id": "39VFH0i5HFTz"
      }
    },
    {
      "cell_type": "markdown",
      "source": [
        "To explain the concepts of `while` loops and `for` loops in layman's language, let's use real-life scenarios that might help clarify how these loops work:\n",
        "\n",
        "### 1. **`while` Loop: Waiting for a Bus**\n",
        "Imagine you're waiting at a bus stop. You don't know exactly when the bus will come; it could be in 5 minutes or 15 minutes. You'll continue to wait **as long as** the condition \"the bus has not arrived\" is true. This is similar to a `while` loop:\n",
        "- **Condition to Continue**: The bus has not arrived yet.\n",
        "- **Action**: Keep waiting.\n",
        "\n",
        "In programming, a `while` loop works similarly. It continues to execute a block of code **as long as** a particular condition is true. This loop is useful when you're not sure how many times you'll need to repeat an action.\n",
        "\n",
        "**Example**: You might use a `while` loop in a program that asks for user input until they enter 'quit'.\n",
        "\n",
        "### 2. **`for` Loop: Making Coffee for Guests**\n",
        "Suppose you're hosting a breakfast and you know exactly how many guests (let's say 5) are coming. You need to prepare a cup of coffee for each guest. You will go through the action of making coffee five times—one for each guest. This scenario is like a `for` loop:\n",
        "- **Known Number of Iterations**: 5 guests.\n",
        "- **Action**: Make a cup of coffee for each guest.\n",
        "\n",
        "In programming, a `for` loop is used when you know in advance how many times you'll need to repeat an action. It's very handy for iterating over items like lists or ranges.\n",
        "\n",
        "**Example**: You might use a `for` loop in a program to process or print each item in a list of names.\n",
        "\n",
        "### Real-Life Analogy\n",
        "- **`while` Loop**: Like checking your phone for a message. You will keep checking **as long as** you haven’t received a new message. The number of checks isn’t known beforehand—it depends on when the message arrives.\n",
        "- **`for` Loop**: Like reading a book where you know the number of pages. If the book has 300 pages and you plan to read it completely, you will turn the pages exactly 300 times.\n",
        "\n",
        "These examples illustrate how loops help with repeated tasks, whether the number of repetitions is determined by ongoing conditions (`while` loop) or is predetermined (`for` loop)."
      ],
      "metadata": {
        "id": "ZTdd1mEVICpX"
      }
    },
    {
      "cell_type": "markdown",
      "source": [
        "Certainly! Let’s consider a scenario where the same condition applies to both a `while` loop and a `for` loop, so you can clearly see the differences in their usage and structure.\n",
        "\n",
        "### Scenario: Watching Episodes of a TV Show\n",
        "\n",
        "Imagine you have decided to spend your Sunday watching as many episodes as possible of your favorite TV show, \"Planet Explorers.\" Each episode is 45 minutes long, and you have exactly 6 hours free before you need to go to a dinner engagement.\n",
        "\n",
        "### **Using a `while` Loop**\n",
        "\n",
        "In this case, you watch episodes **as long as** you have enough time left to watch another full episode. You're not certain how many episodes you'll watch because maybe you decide to take a break, or perhaps some episodes are skipped.\n",
        "\n",
        "```python\n",
        "total_time = 360  # 6 hours, in minutes\n",
        "episode_length = 45  # Each episode is 45 minutes\n",
        "watched_episodes = 0\n",
        "\n",
        "while total_time >= episode_length:\n",
        "    # Watch an episode\n",
        "    watched_episodes += 1\n",
        "    total_time -= episode_length  # Subtract the length of one episode from total time\n",
        "\n",
        "print(f\"Watched {watched_episodes} episodes.\")\n",
        "```\n",
        "\n",
        "### **Using a `for` Loop**\n",
        "\n",
        "In this case, you calculate upfront that you can watch a maximum of 8 episodes (because 360 / 45 = 8), and you decide to set a plan to watch exactly that many, if possible.\n",
        "\n",
        "```python\n",
        "max_episodes = 8  # Maximum episodes you can watch\n",
        "\n",
        "for episode in range(max_episodes):\n",
        "    print(f\"Watching episode {episode + 1}\")\n",
        "\n",
        "print(\"Finished watching episodes.\")\n",
        "```\n",
        "\n",
        "### **Key Differences Illustrated**\n",
        "\n",
        "- **Flexibility**: The `while` loop offers more flexibility. You keep watching as long as you have enough time, making it adaptable if conditions change (like if you take a break). If you decide on the fly that you have less time (say, the dinner engagement was moved up), the loop adjusts naturally.\n",
        "- **Determination**: The `for` loop is more rigid but straightforward. You set out to watch 8 episodes, assuming you have enough time, and the loop runs exactly that number of iterations. This is more structured and predictable.\n",
        "\n",
        "### **Conclusion**\n",
        "\n",
        "- **`while` Loop**: Use when the number of repetitions is not known in advance and could change based on ongoing conditions. It's more dynamic and checks the loop condition before each iteration.\n",
        "- **`for` Loop**: Use when you know exactly how many times you want to run the loop. It’s predetermined and not meant to adjust based on changing conditions within the loop’s execution.\n",
        "\n",
        "In this example, both loops could technically accomplish the task of watching TV shows, but the choice of loop affects how the watching session is controlled and managed."
      ],
      "metadata": {
        "id": "DYSv9LSEIH7W"
      }
    },
    {
      "cell_type": "code",
      "source": [
        "total_time = 360  # 6 hours, in minutes\n",
        "episode_length = 45  # Each episode is 45 minutes\n",
        "watched_episodes = 2\n",
        "\n",
        "while total_time >= episode_length:\n",
        "    # Watch an episode\n",
        "    watched_episodes += 1\n",
        "    total_time -= episode_length  # Subtract the length of one episode from total time\n",
        "\n",
        "print(f\"Watched {watched_episodes} episodes.\")"
      ],
      "metadata": {
        "colab": {
          "base_uri": "https://localhost:8080/"
        },
        "id": "2cLrHaGPIHqs",
        "outputId": "fa394a86-adc7-4318-86e8-620f23e28bdc"
      },
      "execution_count": 59,
      "outputs": [
        {
          "output_type": "stream",
          "name": "stdout",
          "text": [
            "Watched 10 episodes.\n"
          ]
        }
      ]
    },
    {
      "cell_type": "code",
      "source": [
        "max_episodes = 8  # Maximum episodes you can watch\n",
        "\n",
        "for episode in range(max_episodes):\n",
        "    print(f\"Watching episode {episode + 1}\")\n",
        "\n",
        "print(\"Finished watching episodes.\")"
      ],
      "metadata": {
        "colab": {
          "base_uri": "https://localhost:8080/"
        },
        "id": "e_Zu485aIbBi",
        "outputId": "a4d066ac-214e-4902-8640-8a095dd0322f"
      },
      "execution_count": 60,
      "outputs": [
        {
          "output_type": "stream",
          "name": "stdout",
          "text": [
            "Watching episode 1\n",
            "Watching episode 2\n",
            "Watching episode 3\n",
            "Watching episode 4\n",
            "Watching episode 5\n",
            "Watching episode 6\n",
            "Watching episode 7\n",
            "Watching episode 8\n",
            "Finished watching episodes.\n"
          ]
        }
      ]
    },
    {
      "cell_type": "markdown",
      "source": [
        "Sure, let's use a real-life scenario to illustrate how loop control statements (`break` and `continue`) work in both C and Python, making it easier to understand their practical applications.\n",
        "\n",
        "### Scenario: Hosting a Party Game\n",
        "\n",
        "Imagine you're hosting a party and organizing a game for your guests. As part of the game, each guest takes a turn at trying to guess a number you've thought of, in order from guest 1 to guest 10. If a guest guesses the number correctly, the game ends immediately. If a guest's turn is skipped (for example, because they stepped out of the room), the game continues with the next guest.\n",
        "\n",
        "### **Using `break` and `continue` in C and Python**\n",
        "\n",
        "#### **Game Rules:**\n",
        "- You're thinking of the number 5.\n",
        "- Guest 3 stepped out, so their turn is skipped.\n",
        "\n",
        "#### **C Code Example:**\n",
        "Here's how you might write this in C using `break` to end the game when the correct number is guessed, and `continue` to skip a guest's turn:\n",
        "\n",
        "```c\n",
        "#include <stdio.h>\n",
        "\n",
        "int main() {\n",
        "    int correct_number = 5;\n",
        "    for (int i = 1; i <= 10; i++) {\n",
        "        if (i == 3) {\n",
        "            continue; // Guest 3 is skipped\n",
        "        }\n",
        "        printf(\"Guest %d makes a guess.\\n\", i);\n",
        "        if (i == correct_number) {\n",
        "            printf(\"Guest %d guessed the correct number!\\n\", i);\n",
        "            break; // End the game, number guessed correctly\n",
        "        }\n",
        "    }\n",
        "    return 0;\n",
        "}\n",
        "```\n",
        "\n",
        "#### **Python Code Example:**\n",
        "The same logic applies in Python, using very similar syntax for `break` and `continue`:\n",
        "\n",
        "```python\n",
        "correct_number = 5\n",
        "for i in range(1, 11):\n",
        "    if i == 3:\n",
        "        continue  # Guest 3 is skipped\n",
        "    print(f\"Guest {i} makes a guess.\")\n",
        "    if i == correct_number:\n",
        "        print(f\"Guest {i} guessed the correct number!\")\n",
        "        break  # End the game, number guessed correctly\n",
        "```\n",
        "\n",
        "### **Explanation:**\n",
        "\n",
        "- **`continue`**:\n",
        "  - **Purpose**: Skips over the current loop iteration.\n",
        "  - **Scenario Use**: Guest 3's turn is skipped because they are not present.\n",
        "  - **Effect**: The loop continues immediately with the next iteration (Guest 4).\n",
        "  \n",
        "- **`break`**:\n",
        "  - **Purpose**: Immediately exits the loop.\n",
        "  - **Scenario Use**: Guest 5 guesses the correct number.\n",
        "  - **Effect**: The game ends as soon as the correct guess is made, regardless of how many guests haven't had their turn.\n",
        "\n",
        "### **Real-Life Analogy:**\n",
        "Think of `continue` as saying, \"Skip me, move on to the next person,\" during a round of a game, and `break` as someone calling out, \"Game over!\" because the winning condition has been met.\n",
        "\n",
        "This practical approach helps illustrate the control flow in looping structures, making it clear how `break` and `continue` can be effectively used to manage the flow of a game—or any sequence of events—both in programming and in real-life situations."
      ],
      "metadata": {
        "id": "JgBFfuIQI3Ph"
      }
    },
    {
      "cell_type": "code",
      "source": [
        "correct_number = 5\n",
        "for i in range(1, 11):\n",
        "    if i == 3:\n",
        "        continue  # Guest 3 is skipped\n",
        "    print(f\"Guest {i} makes a guess.\")\n",
        "    if i == correct_number:\n",
        "        print(f\"Guest {i} guessed the correct number!\")\n",
        "        break  # End the game, number guessed correctly"
      ],
      "metadata": {
        "colab": {
          "base_uri": "https://localhost:8080/"
        },
        "id": "8imY6GQoI3A7",
        "outputId": "8147ef3f-61c2-4f80-9a20-bfe776395ba0"
      },
      "execution_count": 61,
      "outputs": [
        {
          "output_type": "stream",
          "name": "stdout",
          "text": [
            "Guest 1 makes a guess.\n",
            "Guest 2 makes a guess.\n",
            "Guest 4 makes a guess.\n",
            "Guest 5 makes a guess.\n",
            "Guest 5 guessed the correct number!\n"
          ]
        }
      ]
    },
    {
      "cell_type": "code",
      "source": [
        "!gcc a.c -o a"
      ],
      "metadata": {
        "id": "8tWpor6QKiip"
      },
      "execution_count": 63,
      "outputs": []
    }
  ]
}